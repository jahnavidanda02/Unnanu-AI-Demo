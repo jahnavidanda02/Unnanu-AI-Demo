{
 "cells": [
  {
   "cell_type": "code",
   "execution_count": 15,
   "id": "db0953fb-b280-412b-9d01-ee20af0e6193",
   "metadata": {},
   "outputs": [],
   "source": [
    "from dotenv import load_dotenv\n",
    "from langchain_community.utilities import SQLDatabase\n",
    "from langchain_community.agent_toolkits import create_sql_agent\n",
    "from langchain_openai import ChatOpenAI\n",
    "from langchain_community.vectorstores import FAISS\n",
    "from langchain_core.example_selectors import SemanticSimilarityExampleSelector\n",
    "from langchain_openai import OpenAIEmbeddings\n",
    "from langchain_core.prompts import (\n",
    "    ChatPromptTemplate,\n",
    "    FewShotPromptTemplate,\n",
    "    MessagesPlaceholder,\n",
    "    PromptTemplate,\n",
    "    SystemMessagePromptTemplate,\n",
    ")\n",
    "import os"
   ]
  },
  {
   "cell_type": "code",
   "execution_count": 16,
   "id": "8bfb9412-bd30-4833-a453-c2dbba942225",
   "metadata": {},
   "outputs": [],
   "source": [
    "load_dotenv()\n",
    "db_user = os.getenv('DB_USER')\n",
    "db_pass = os.getenv('DB_PASSWORD')\n",
    "db_host = os.getenv('DB_HOST')\n",
    "db_name = os.getenv('DB_NAME')"
   ]
  },
  {
   "cell_type": "code",
   "execution_count": 17,
   "id": "b38f2cef-35e3-4691-9c49-4acb3c2d565d",
   "metadata": {},
   "outputs": [],
   "source": [
    "examples = [\n",
    "   {\n",
    "        \"input\": \"Give all Woman Owned companies with sales in 2023.\",\n",
    "        \"query\": \"SELECT * FROM demo_vendors WHERE Hub_Type LIKE '%women%' OR Hub_Type LIKE '%female%' AND sales_2023 > 0;\",\n",
    "    },\n",
    "    {\n",
    "        \"input\": \"Give top 10 HUB certified application development vendors.\",\n",
    "        \"query\": \"SELECT * FROM demo_vendors WHERE `Technology_Category_1` LIKE '%Application Development%' AND hub_certified = 1 ORDER BY sales_2023 DESC LIMIT 10;\",\n",
    "    },\n",
    "    {\n",
    "        \"input\": \"Give top 10 HUB certified software development vendors.\",\n",
    "        \"query\": \"SELECT * FROM demo_vendors WHERE `Technology_Category_1` LIKE '%Application Development%' AND hub_certified = 1 ORDER BY sales_2023 DESC LIMIT 10;\",\n",
    "    },\n",
    "    {\n",
    "        \"input\": \"Give top 10 HUB certified IT development vendors.\",\n",
    "        \"query\": \"SELECT * FROM demo_vendors WHERE `Technology_Category_1` LIKE '%Application Development%' AND hub_certified = 1 ORDER BY sales_2023 DESC LIMIT 10;\",\n",
    "    },\n",
    "    {\n",
    "        \"input\": \"Give top 10 HUB certified custom software development vendors.\",\n",
    "        \"query\": \"SELECT * FROM demo_vendors WHERE `Technology_Category_1` LIKE '%Application Development%' AND hub_certified = 1 ORDER BY sales_2023 DESC LIMIT 10;\",\n",
    "    },\n",
    "    {\n",
    "        \"input\": \"Give all application development vendors.\",\n",
    "        \"query\": \"SELECT * FROM demo_vendors WHERE `Technology_Category_1` LIKE '%Application Development%';\",\n",
    "    },\n",
    "    {\n",
    "        \"input\": \"Give all software development vendors.\",\n",
    "        \"query\": \"SELECT * FROM demo_vendors WHERE `Technology_Category_1` LIKE '%Application Development%';\",\n",
    "    },\n",
    "    {\n",
    "        \"input\": \"Give all IT development vendors.\",\n",
    "        \"query\": \"SELECT * FROM demo_vendors WHERE `Technology_Category_1` LIKE '%Application Development%';\",\n",
    "    }\n",
    "]"
   ]
  },
  {
   "cell_type": "code",
   "execution_count": 18,
   "id": "ed957259-7f87-4ea5-bf06-137072d6089a",
   "metadata": {},
   "outputs": [],
   "source": [
    "db = SQLDatabase.from_uri(f\"mysql+mysqlconnector://{db_user}:{db_pass}@{db_host}/{db_name}\")"
   ]
  },
  {
   "cell_type": "code",
   "execution_count": 19,
   "id": "a21fa59e-d3c7-49d2-a3c5-e40f7e98efe3",
   "metadata": {},
   "outputs": [],
   "source": [
    "llm = ChatOpenAI(model=\"gpt-4-turbo\", temperature=0)\n",
    "agent_executor = create_sql_agent(llm, db=db, agent_type=\"openai-tools\", verbose=True)"
   ]
  },
  {
   "cell_type": "code",
   "execution_count": 20,
   "id": "87296024-682e-42ba-9ba0-f25e4566d20f",
   "metadata": {},
   "outputs": [],
   "source": [
    "example_selector = SemanticSimilarityExampleSelector.from_examples(\n",
    "    examples,\n",
    "    OpenAIEmbeddings(),\n",
    "    FAISS,\n",
    "    k=5,\n",
    "    input_keys=[\"input\"],\n",
    ")"
   ]
  },
  {
   "cell_type": "code",
   "execution_count": 21,
   "id": "9a75a22a-d215-4ed9-a361-4b96f7fdf2a5",
   "metadata": {},
   "outputs": [],
   "source": [
    "system_prefix = \"\"\"You are an agent designed to interact with a SQL database.\n",
    "Given an input question, create a syntactically correct {dialect} query to run, then look at the results of the query and return the answer.\n",
    "You can order the results by a relevant column to return the most interesting examples in the database.\n",
    "Always query for all the columns from a specific table.\n",
    "You have access to tools for interacting with the database.\n",
    "Only use the given tools. Only use the information returned by the tools to construct your final answer.\n",
    "You MUST double check your query before executing it. If you get an error while executing a query, rewrite the query and try again.\n",
    "If asked about women-owned companies, use %LIKE% to search for women or female in the Hub_Type column.\n",
    "DO NOT make any DML statements (INSERT, UPDATE, DELETE, DROP etc.) to the database.\n",
    "\n",
    "If the question does not seem related to the database, just return \"I don't know\" as the answer.\n",
    "\n",
    "Here are some examples of user inputs and their corresponding SQL queries:\"\"\"\n",
    "\n",
    "few_shot_prompt = FewShotPromptTemplate(\n",
    "    example_selector=example_selector,\n",
    "    example_prompt=PromptTemplate.from_template(\n",
    "        \"User input: {input}\\nSQL query: {query}\"\n",
    "    ),\n",
    "    input_variables=[\"input\", \"dialect\", \"top_k\"],\n",
    "    prefix=system_prefix,\n",
    "    suffix=\"\",\n",
    ")"
   ]
  },
  {
   "cell_type": "code",
   "execution_count": 22,
   "id": "6b5515d6-57ac-4c54-bc70-34c0bb4cddf1",
   "metadata": {},
   "outputs": [],
   "source": [
    "full_prompt = ChatPromptTemplate.from_messages(\n",
    "    [\n",
    "        SystemMessagePromptTemplate(prompt=few_shot_prompt),\n",
    "        (\"human\", \"{input}\"),\n",
    "        MessagesPlaceholder(\"agent_scratchpad\"),\n",
    "    ]\n",
    ")"
   ]
  },
  {
   "cell_type": "code",
   "execution_count": 23,
   "id": "6def7895-0058-4374-afb5-1332acaa9e40",
   "metadata": {},
   "outputs": [
    {
     "name": "stdout",
     "output_type": "stream",
     "text": [
      "System: You are an agent designed to interact with a SQL database.\n",
      "Given an input question, create a syntactically correct mysql query to run, then look at the results of the query and return the answer.\n",
      "You can order the results by a relevant column to return the most interesting examples in the database.\n",
      "Always query for all the columns from a specific table.\n",
      "You have access to tools for interacting with the database.\n",
      "Only use the given tools. Only use the information returned by the tools to construct your final answer.\n",
      "You MUST double check your query before executing it. If you get an error while executing a query, rewrite the query and try again.\n",
      "If asked about women-owned companies, use %LIKE% to search for women or female in the Hub_Type column.\n",
      "DO NOT make any DML statements (INSERT, UPDATE, DELETE, DROP etc.) to the database.\n",
      "\n",
      "If the question does not seem related to the database, just return \"I don't know\" as the answer.\n",
      "\n",
      "Here are some examples of user inputs and their corresponding SQL queries:\n",
      "\n",
      "User input: Give all application development vendors.\n",
      "SQL query: SELECT * FROM vendors WHERE `Technology_Category 1` LIKE '%Application Development%';\n",
      "\n",
      "User input: Give all software development vendors.\n",
      "SQL query: SELECT * FROM vendors WHERE `Technology_Category 1` LIKE '%Application Development%';\n",
      "\n",
      "User input: Give all IT development vendors.\n",
      "SQL query: SELECT * FROM vendors WHERE `Technology_Category 1` LIKE '%Application Development%';\n",
      "\n",
      "User input: Give top 10 HUB certified application development vendors.\n",
      "SQL query: SELECT * FROM vendors WHERE `Technology_Category 1` LIKE '%Application Development%' AND hub_certified = 1 ORDER BY sales_2023 DESC LIMIT 10;\n",
      "\n",
      "User input: Give top 10 HUB certified IT development vendors.\n",
      "SQL query: SELECT * FROM vendors WHERE `Technology_Category 1` LIKE '%Application Development%' AND hub_certified = 1 ORDER BY sales_2023 DESC LIMIT 10;\n",
      "Human: How many vendors are there\n"
     ]
    }
   ],
   "source": [
    "# Example formatted prompt\n",
    "prompt_val = full_prompt.invoke(\n",
    "    {\n",
    "        \"input\": \"How many vendors are there\",\n",
    "        \"top_k\": 100,\n",
    "        \"dialect\": \"mysql\",\n",
    "        \"agent_scratchpad\": [],\n",
    "    }\n",
    ")\n",
    "print(prompt_val.to_string())"
   ]
  },
  {
   "cell_type": "code",
   "execution_count": 24,
   "id": "b130da5b-6ae6-46c5-9d34-59dcb92cc557",
   "metadata": {},
   "outputs": [],
   "source": [
    "agent = create_sql_agent(\n",
    "    llm=llm,\n",
    "    db=db,\n",
    "    prompt=full_prompt,\n",
    "    verbose=True,\n",
    "    agent_type=\"openai-tools\",\n",
    ")"
   ]
  },
  {
   "cell_type": "code",
   "execution_count": 31,
   "id": "77b8abd6-32ba-49c7-adb0-b64ad5b3691e",
   "metadata": {},
   "outputs": [
    {
     "name": "stdout",
     "output_type": "stream",
     "text": [
      "\n",
      "\n",
      "\u001b[1m> Entering new SQL Agent Executor chain...\u001b[0m\n",
      "\u001b[32;1m\u001b[1;3m\n",
      "Invoking: `sql_db_query` with `{'query': 'SELECT * FROM vendors ORDER BY sales_2022 DESC LIMIT 1'}`\n",
      "\n",
      "\n",
      "\u001b[0m\u001b[36;1m\u001b[1;3m[('SAS', 'DIR-CPO-5005', 'SAS offers deliverables-based information technology services (DBITS) through this contract, specifically: Technology Category 2: Business Intelligence (BI), Data Management, Analytics, and Automation, including Data Warehousing. This contract is for services ONLY. No hardware or software...', '', 'Business Intelligence (BI), Data Management, Analytics, and Automation, including Data Warehousing', '', '', 'Matthew Arabshahi', '5/9/2025', 'others', 'Paul Graeber', 'paul.graeber@sas.com', '(512) 840-6219', 1, Decimal('1982606.35'), Decimal('1998518.37'), Decimal('1455989.91'), Decimal('660535.46'), 1)]\u001b[0m\u001b[32;1m\u001b[1;3mThe vendor that did the highest sales in the year 2022 is SAS, with sales amounting to $1,998,518.37.\u001b[0m\n",
      "\n",
      "\u001b[1m> Finished chain.\u001b[0m\n"
     ]
    },
    {
     "data": {
      "text/plain": [
       "{'input': 'Which vendor did highest sales in the year 2022?',\n",
       " 'output': 'The vendor that did the highest sales in the year 2022 is SAS, with sales amounting to $1,998,518.37.'}"
      ]
     },
     "execution_count": 31,
     "metadata": {},
     "output_type": "execute_result"
    }
   ],
   "source": [
    "agent.invoke(\"Which vendor did highest sales in the year 2022?\")"
   ]
  },
  {
   "cell_type": "code",
   "execution_count": null,
   "id": "8f8ad90a-923b-4086-8a3c-ce123128eff1",
   "metadata": {},
   "outputs": [],
   "source": []
  }
 ],
 "metadata": {
  "kernelspec": {
   "display_name": "Python 3 (ipykernel)",
   "language": "python",
   "name": "python3"
  },
  "language_info": {
   "codemirror_mode": {
    "name": "ipython",
    "version": 3
   },
   "file_extension": ".py",
   "mimetype": "text/x-python",
   "name": "python",
   "nbconvert_exporter": "python",
   "pygments_lexer": "ipython3",
   "version": "3.11.7"
  }
 },
 "nbformat": 4,
 "nbformat_minor": 5
}
